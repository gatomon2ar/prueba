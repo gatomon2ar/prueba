{
  "nbformat": 4,
  "nbformat_minor": 0,
  "metadata": {
    "colab": {
      "provenance": []
    },
    "kernelspec": {
      "name": "python3",
      "display_name": "Python 3"
    },
    "language_info": {
      "name": "python"
    }
  },
  "cells": [
    {
      "cell_type": "markdown",
      "source": [
        "Ejercicio 5:\n",
        "Escribir un programa que guarde en una variable el diccionario {'Euro':248,\n",
        "'Dolar':234.55, 'Yen':1.67, 'Libra':285.16}, pregunte al usuario si quiere cambiar pesos\n",
        "argentinos y muestre la tasa de cambio y cuánto dinero le corresponde. El usuario\n",
        "puede solicitar repetidamente realizar cambio de divisa y decidir cuándo parar. En\n",
        "cada solicitud debe ingresar el monto a cambiar y la divisa deseada. Dar aviso si la\n",
        "divisa no está en el diccionario.\n",
        "Por ejemplo:\n",
        "Divisa = Yen pesos = $1000 salida tasa = 1.67, monto = 598,80\n",
        "Divisa = Libra pesos = $5000 salida tasa = 1285.16, monto = 3,89\n",
        "Divisa = Yen pesos = 2500 salida tasa = 1.67, monto = 1497,00"
      ],
      "metadata": {
        "id": "myC1aJSUokfb"
      }
    },
    {
      "cell_type": "code",
      "execution_count": 1,
      "metadata": {
        "colab": {
          "base_uri": "https://localhost:8080/"
        },
        "id": "jUxAD2RIojjk",
        "outputId": "0634d9ea-ca76-491f-c02a-85fdf221837e"
      },
      "outputs": [
        {
          "name": "stdout",
          "output_type": "stream",
          "text": [
            "ingrese en que divisa desea operar:\n",
            "       Elegir opcion\n",
            "       1- Euro\n",
            "       2- Dolar\n",
            "       3- Yen\n",
            "       4- Libra\n",
            "5\n",
            "eleccion incorrecta\n",
            "ingrese en que divisa desea operar:\n",
            "       Elegir opcion\n",
            "       1- Euro\n",
            "       2- Dolar\n",
            "       3- Yen\n",
            "       4- Libra\n",
            "1\n",
            "la tasa de cambio del Euro es 248\n",
            "Ingrese el monto de pesos que desea cambiar:5000\n",
            "El cambio es de: 20.161290322580644\n",
            "desea continuar Si/No:si\n",
            "ingrese en que divisa desea operar:\n",
            "       Elegir opcion\n",
            "       1- Euro\n",
            "       2- Dolar\n",
            "       3- Yen\n",
            "       4- Libra\n",
            "4\n",
            "la tasa de cambio del Libra es 285.16\n",
            "Ingrese el monto de pesos que desea cambiar:1000\n",
            "El cambio es de: 3.5068031982045165\n",
            "desea continuar Si/No:no\n"
          ]
        }
      ],
      "source": [
        "print("Muy bien, a seguir avanzando")",
        "d={'Euro':248, 'Dolar':234.55, 'Yen':1.67, 'Libra':285.16}\n",
        "b=True\n",
        "while b:\n",
        "  \n",
        "  b2=True\n",
        "  while b2:\n",
        "   divisa=int(input(\"\"\"ingrese en que divisa desea operar:\n",
        "       Elegir opcion\n",
        "       1- Euro\n",
        "       2- Dolar\n",
        "       3- Yen\n",
        "       4- Libra\\n\"\"\"))\n",
        "   if divisa==1:\n",
        "    print(\"la tasa de cambio del Euro es\",d[\"Euro\"])\n",
        "    monto=float(input(\"Ingrese el monto de pesos que desea cambiar:\"))\n",
        "    tasa=d[\"Euro\"]\n",
        "    cambio=monto/tasa\n",
        "    print(\"El cambio es de:\",cambio)\n",
        "    b2=False\n",
        "   elif divisa==2:\n",
        "    print(\"la tasa de cambio del Dolar es\",d[\"Dolar\"])\n",
        "    monto=float(input(\"Ingrese el monto de pesos que desea cambiar:\"))\n",
        "    tasa=d[\"Dolar\"]\n",
        "    cambio=monto/tasa\n",
        "    print(\"El cambio es de:\",cambio)\n",
        "    b2=False\n",
        "   elif divisa==3:\n",
        "    print(\"la tasa de cambio del Yen es\",d[\"Yen\"])\n",
        "    monto=float(input(\"Ingrese el monto de pesos que desea cambiar:\"))\n",
        "    tasa=d[\"Yen\"]\n",
        "    cambio=monto/tasa\n",
        "    print(\"El cambio es de:\",cambio)\n",
        "    b2=False\n",
        "   elif divisa==4:\n",
        "    print(\"la tasa de cambio del Libra es\",d[\"Libra\"])\n",
        "    monto=float(input(\"Ingrese el monto de pesos que desea cambiar:\"))\n",
        "    tasa=d[\"Libra\"]\n",
        "    cambio=monto/tasa\n",
        "    print(\"El cambio es de:\",cambio)\n",
        "    b2=False\n",
        "   else:  \n",
        "    print(\"eleccion incorrecta\")\n",
        "    \n",
        "  x=input(\"desea continuar Si/No:\")\n",
        "  if x.lower()==\"no\":\n",
        "    b=False"
      ]
    }
  ]
}
